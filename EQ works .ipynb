{
 "cells": [
  {
   "cell_type": "markdown",
   "metadata": {},
   "source": [
    "# 0. Import data\n"
   ]
  },
  {
   "cell_type": "code",
   "execution_count": 386,
   "metadata": {},
   "outputs": [],
   "source": [
    "import os\n",
    "import pandas as pd\n",
    "import matplotlib.pyplot as plt\n",
    "import numpy as np\n"
   ]
  },
  {
   "cell_type": "code",
   "execution_count": 387,
   "metadata": {},
   "outputs": [
    {
     "data": {
      "text/plain": [
       "'C:\\\\Users\\\\smart'"
      ]
     },
     "execution_count": 387,
     "metadata": {},
     "output_type": "execute_result"
    }
   ],
   "source": [
    "os.getcwd()"
   ]
  },
  {
   "cell_type": "code",
   "execution_count": 388,
   "metadata": {},
   "outputs": [],
   "source": [
    "data_sample_raw = pd.read_csv(r'~\\Desktop\\GitHub\\EQworks\\Data\\DataSample.csv')"
   ]
  },
  {
   "cell_type": "code",
   "execution_count": 389,
   "metadata": {},
   "outputs": [
    {
     "name": "stdout",
     "output_type": "stream",
     "text": [
      "number of rows: 22025\n"
     ]
    },
    {
     "data": {
      "text/html": [
       "<div>\n",
       "<style scoped>\n",
       "    .dataframe tbody tr th:only-of-type {\n",
       "        vertical-align: middle;\n",
       "    }\n",
       "\n",
       "    .dataframe tbody tr th {\n",
       "        vertical-align: top;\n",
       "    }\n",
       "\n",
       "    .dataframe thead th {\n",
       "        text-align: right;\n",
       "    }\n",
       "</style>\n",
       "<table border=\"1\" class=\"dataframe\">\n",
       "  <thead>\n",
       "    <tr style=\"text-align: right;\">\n",
       "      <th></th>\n",
       "      <th>_ID</th>\n",
       "      <th>TimeSt</th>\n",
       "      <th>Country</th>\n",
       "      <th>Province</th>\n",
       "      <th>City</th>\n",
       "      <th>Latitude</th>\n",
       "      <th>Longitude</th>\n",
       "    </tr>\n",
       "  </thead>\n",
       "  <tbody>\n",
       "    <tr>\n",
       "      <th>22020</th>\n",
       "      <td>5614801</td>\n",
       "      <td>2017-06-21 12:23</td>\n",
       "      <td>CA</td>\n",
       "      <td>ON</td>\n",
       "      <td>Saint Catharines</td>\n",
       "      <td>43.16440</td>\n",
       "      <td>-79.24560</td>\n",
       "    </tr>\n",
       "    <tr>\n",
       "      <th>22021</th>\n",
       "      <td>5614888</td>\n",
       "      <td>2017-06-21 8:23</td>\n",
       "      <td>CA</td>\n",
       "      <td>AB</td>\n",
       "      <td>Calgary</td>\n",
       "      <td>51.02093</td>\n",
       "      <td>-114.10621</td>\n",
       "    </tr>\n",
       "    <tr>\n",
       "      <th>22022</th>\n",
       "      <td>5614909</td>\n",
       "      <td>2017-06-21 0:23</td>\n",
       "      <td>CA</td>\n",
       "      <td>ON</td>\n",
       "      <td>Whitby</td>\n",
       "      <td>43.88730</td>\n",
       "      <td>-78.94220</td>\n",
       "    </tr>\n",
       "    <tr>\n",
       "      <th>22023</th>\n",
       "      <td>5614912</td>\n",
       "      <td>2017-06-21 11:23</td>\n",
       "      <td>CA</td>\n",
       "      <td>ON</td>\n",
       "      <td>Oakville</td>\n",
       "      <td>43.49340</td>\n",
       "      <td>-79.71260</td>\n",
       "    </tr>\n",
       "    <tr>\n",
       "      <th>22024</th>\n",
       "      <td>5615006</td>\n",
       "      <td>2017-06-21 17:23</td>\n",
       "      <td>CA</td>\n",
       "      <td>ON</td>\n",
       "      <td>Oakville</td>\n",
       "      <td>43.43090</td>\n",
       "      <td>-79.77670</td>\n",
       "    </tr>\n",
       "  </tbody>\n",
       "</table>\n",
       "</div>"
      ],
      "text/plain": [
       "           _ID            TimeSt Country Province              City  Latitude  \\\n",
       "22020  5614801  2017-06-21 12:23      CA       ON  Saint Catharines  43.16440   \n",
       "22021  5614888   2017-06-21 8:23      CA       AB           Calgary  51.02093   \n",
       "22022  5614909   2017-06-21 0:23      CA       ON            Whitby  43.88730   \n",
       "22023  5614912  2017-06-21 11:23      CA       ON          Oakville  43.49340   \n",
       "22024  5615006  2017-06-21 17:23      CA       ON          Oakville  43.43090   \n",
       "\n",
       "       Longitude  \n",
       "22020  -79.24560  \n",
       "22021 -114.10621  \n",
       "22022  -78.94220  \n",
       "22023  -79.71260  \n",
       "22024  -79.77670  "
      ]
     },
     "execution_count": 389,
     "metadata": {},
     "output_type": "execute_result"
    }
   ],
   "source": [
    "print('number of rows:', len(data_sample_raw.index))\n",
    "data_sample_raw.tail()"
   ]
  },
  {
   "cell_type": "code",
   "execution_count": 390,
   "metadata": {},
   "outputs": [
    {
     "data": {
      "text/html": [
       "<div>\n",
       "<style scoped>\n",
       "    .dataframe tbody tr th:only-of-type {\n",
       "        vertical-align: middle;\n",
       "    }\n",
       "\n",
       "    .dataframe tbody tr th {\n",
       "        vertical-align: top;\n",
       "    }\n",
       "\n",
       "    .dataframe thead th {\n",
       "        text-align: right;\n",
       "    }\n",
       "</style>\n",
       "<table border=\"1\" class=\"dataframe\">\n",
       "  <thead>\n",
       "    <tr style=\"text-align: right;\">\n",
       "      <th></th>\n",
       "      <th>POIID</th>\n",
       "      <th>Latitude</th>\n",
       "      <th>Longitude</th>\n",
       "    </tr>\n",
       "  </thead>\n",
       "  <tbody>\n",
       "    <tr>\n",
       "      <th>0</th>\n",
       "      <td>POI1</td>\n",
       "      <td>53.546167</td>\n",
       "      <td>-113.485734</td>\n",
       "    </tr>\n",
       "    <tr>\n",
       "      <th>1</th>\n",
       "      <td>POI2</td>\n",
       "      <td>53.546167</td>\n",
       "      <td>-113.485734</td>\n",
       "    </tr>\n",
       "    <tr>\n",
       "      <th>2</th>\n",
       "      <td>POI3</td>\n",
       "      <td>45.521629</td>\n",
       "      <td>-73.566024</td>\n",
       "    </tr>\n",
       "    <tr>\n",
       "      <th>3</th>\n",
       "      <td>POI4</td>\n",
       "      <td>45.224830</td>\n",
       "      <td>-63.232729</td>\n",
       "    </tr>\n",
       "  </tbody>\n",
       "</table>\n",
       "</div>"
      ],
      "text/plain": [
       "  POIID   Latitude   Longitude\n",
       "0  POI1  53.546167 -113.485734\n",
       "1  POI2  53.546167 -113.485734\n",
       "2  POI3  45.521629  -73.566024\n",
       "3  POI4  45.224830  -63.232729"
      ]
     },
     "execution_count": 390,
     "metadata": {},
     "output_type": "execute_result"
    }
   ],
   "source": [
    "poi_list = pd.read_csv(r'~\\Desktop\\GitHub\\EQworks\\Data\\POIList.csv')\n",
    "poi_list"
   ]
  },
  {
   "cell_type": "code",
   "execution_count": 391,
   "metadata": {},
   "outputs": [
    {
     "data": {
      "text/html": [
       "<div>\n",
       "<style scoped>\n",
       "    .dataframe tbody tr th:only-of-type {\n",
       "        vertical-align: middle;\n",
       "    }\n",
       "\n",
       "    .dataframe tbody tr th {\n",
       "        vertical-align: top;\n",
       "    }\n",
       "\n",
       "    .dataframe thead th {\n",
       "        text-align: right;\n",
       "    }\n",
       "</style>\n",
       "<table border=\"1\" class=\"dataframe\">\n",
       "  <thead>\n",
       "    <tr style=\"text-align: right;\">\n",
       "      <th></th>\n",
       "      <th>POIID</th>\n",
       "      <th>Latitude</th>\n",
       "      <th>Longitude</th>\n",
       "    </tr>\n",
       "  </thead>\n",
       "  <tbody>\n",
       "    <tr>\n",
       "      <th>1</th>\n",
       "      <td>POI2</td>\n",
       "      <td>53.546167</td>\n",
       "      <td>-113.485734</td>\n",
       "    </tr>\n",
       "    <tr>\n",
       "      <th>2</th>\n",
       "      <td>POI3</td>\n",
       "      <td>45.521629</td>\n",
       "      <td>-73.566024</td>\n",
       "    </tr>\n",
       "    <tr>\n",
       "      <th>3</th>\n",
       "      <td>POI4</td>\n",
       "      <td>45.224830</td>\n",
       "      <td>-63.232729</td>\n",
       "    </tr>\n",
       "  </tbody>\n",
       "</table>\n",
       "</div>"
      ],
      "text/plain": [
       "  POIID   Latitude   Longitude\n",
       "1  POI2  53.546167 -113.485734\n",
       "2  POI3  45.521629  -73.566024\n",
       "3  POI4  45.224830  -63.232729"
      ]
     },
     "execution_count": 391,
     "metadata": {},
     "output_type": "execute_result"
    }
   ],
   "source": [
    "# POI1 and POI2 have identical longtitude and latitude; therefore the POI df will be shrunk to 3 IDs\n",
    "poi_list_v1 = poi_list[1:]\n",
    "poi_list_v1"
   ]
  },
  {
   "cell_type": "code",
   "execution_count": 392,
   "metadata": {},
   "outputs": [],
   "source": [
    "poi2_coord = (poi_list_v1.loc[1,'Latitude'],poi_list_v1.loc[1,'Longitude'])\n",
    "poi3_coord = (poi_list_v1.loc[2,'Latitude'],poi_list_v1.loc[2,'Longitude'])\n",
    "poi4_coord = (poi_list_v1.loc[3,'Latitude'],poi_list_v1.loc[3,'Longitude'])\n",
    "pois_coord_list = [poi2_coord, poi3_coord, poi4_coord]\n",
    "pois = ['poi2','poi3','poi4']"
   ]
  },
  {
   "cell_type": "code",
   "execution_count": 393,
   "metadata": {},
   "outputs": [
    {
     "data": {
      "text/plain": [
       "-63.232729000000006"
      ]
     },
     "execution_count": 393,
     "metadata": {},
     "output_type": "execute_result"
    }
   ],
   "source": [
    "pois_coord_list[2][1]"
   ]
  },
  {
   "cell_type": "markdown",
   "metadata": {},
   "source": [
    "# 1. Cleanup\n",
    "### Find the sample dataset of request logs in data/DataSample.csv. We consider records that have identical geoinfo and timest as suspicious. Please clean up the sample dataset by filtering out those questionable request records."
   ]
  },
  {
   "cell_type": "code",
   "execution_count": 394,
   "metadata": {},
   "outputs": [],
   "source": [
    "def unique_columns(df,columns):\n",
    "\n",
    "    result = pd.Series(index = df.index)\n",
    "\n",
    "    groups = df.groupby(by = columns)\n",
    "    for name,group in groups:\n",
    "       is_unique = len(group) == 1\n",
    "       result.loc[group.index] = is_unique\n",
    "\n",
    "    assert not result.isnull().any()\n",
    "\n",
    "    \n",
    "    return result"
   ]
  },
  {
   "cell_type": "code",
   "execution_count": 395,
   "metadata": {},
   "outputs": [
    {
     "data": {
      "text/plain": [
       "Index(['_ID', ' TimeSt', 'Country', 'Province', 'City', 'Latitude',\n",
       "       'Longitude'],\n",
       "      dtype='object')"
      ]
     },
     "execution_count": 395,
     "metadata": {},
     "output_type": "execute_result"
    }
   ],
   "source": [
    "data_sample_raw.columns"
   ]
  },
  {
   "cell_type": "code",
   "execution_count": 396,
   "metadata": {},
   "outputs": [],
   "source": [
    "unique_index_list = unique_columns(data_sample_raw, [' TimeSt','Latitude','Longitude'])\n"
   ]
  },
  {
   "cell_type": "code",
   "execution_count": 397,
   "metadata": {},
   "outputs": [
    {
     "name": "stdout",
     "output_type": "stream",
     "text": [
      "number of rows: 17159\n"
     ]
    },
    {
     "data": {
      "text/html": [
       "<div>\n",
       "<style scoped>\n",
       "    .dataframe tbody tr th:only-of-type {\n",
       "        vertical-align: middle;\n",
       "    }\n",
       "\n",
       "    .dataframe tbody tr th {\n",
       "        vertical-align: top;\n",
       "    }\n",
       "\n",
       "    .dataframe thead th {\n",
       "        text-align: right;\n",
       "    }\n",
       "</style>\n",
       "<table border=\"1\" class=\"dataframe\">\n",
       "  <thead>\n",
       "    <tr style=\"text-align: right;\">\n",
       "      <th></th>\n",
       "      <th>_ID</th>\n",
       "      <th>TimeSt</th>\n",
       "      <th>Country</th>\n",
       "      <th>Province</th>\n",
       "      <th>City</th>\n",
       "      <th>Latitude</th>\n",
       "      <th>Longitude</th>\n",
       "    </tr>\n",
       "  </thead>\n",
       "  <tbody>\n",
       "    <tr>\n",
       "      <th>22018</th>\n",
       "      <td>5614689</td>\n",
       "      <td>2017-06-21 13:23</td>\n",
       "      <td>CA</td>\n",
       "      <td>ON</td>\n",
       "      <td>London</td>\n",
       "      <td>42.9611</td>\n",
       "      <td>-81.2431</td>\n",
       "    </tr>\n",
       "    <tr>\n",
       "      <th>22020</th>\n",
       "      <td>5614801</td>\n",
       "      <td>2017-06-21 12:23</td>\n",
       "      <td>CA</td>\n",
       "      <td>ON</td>\n",
       "      <td>Saint Catharines</td>\n",
       "      <td>43.1644</td>\n",
       "      <td>-79.2456</td>\n",
       "    </tr>\n",
       "    <tr>\n",
       "      <th>22022</th>\n",
       "      <td>5614909</td>\n",
       "      <td>2017-06-21 0:23</td>\n",
       "      <td>CA</td>\n",
       "      <td>ON</td>\n",
       "      <td>Whitby</td>\n",
       "      <td>43.8873</td>\n",
       "      <td>-78.9422</td>\n",
       "    </tr>\n",
       "    <tr>\n",
       "      <th>22023</th>\n",
       "      <td>5614912</td>\n",
       "      <td>2017-06-21 11:23</td>\n",
       "      <td>CA</td>\n",
       "      <td>ON</td>\n",
       "      <td>Oakville</td>\n",
       "      <td>43.4934</td>\n",
       "      <td>-79.7126</td>\n",
       "    </tr>\n",
       "    <tr>\n",
       "      <th>22024</th>\n",
       "      <td>5615006</td>\n",
       "      <td>2017-06-21 17:23</td>\n",
       "      <td>CA</td>\n",
       "      <td>ON</td>\n",
       "      <td>Oakville</td>\n",
       "      <td>43.4309</td>\n",
       "      <td>-79.7767</td>\n",
       "    </tr>\n",
       "  </tbody>\n",
       "</table>\n",
       "</div>"
      ],
      "text/plain": [
       "           _ID            TimeSt Country Province              City  Latitude  \\\n",
       "22018  5614689  2017-06-21 13:23      CA       ON            London   42.9611   \n",
       "22020  5614801  2017-06-21 12:23      CA       ON  Saint Catharines   43.1644   \n",
       "22022  5614909   2017-06-21 0:23      CA       ON            Whitby   43.8873   \n",
       "22023  5614912  2017-06-21 11:23      CA       ON          Oakville   43.4934   \n",
       "22024  5615006  2017-06-21 17:23      CA       ON          Oakville   43.4309   \n",
       "\n",
       "       Longitude  \n",
       "22018   -81.2431  \n",
       "22020   -79.2456  \n",
       "22022   -78.9422  \n",
       "22023   -79.7126  \n",
       "22024   -79.7767  "
      ]
     },
     "execution_count": 397,
     "metadata": {},
     "output_type": "execute_result"
    }
   ],
   "source": [
    "data_sample_v1 = data_sample_raw[unique_index_list]\n",
    "print('number of rows:', len(data_sample_v1.index))\n",
    "data_sample_v1.tail()"
   ]
  },
  {
   "cell_type": "markdown",
   "metadata": {},
   "source": [
    "# 2. Label\n",
    "### Assign each request (from data/DataSample.csv) to the closest (i.e., minimum distance) POI (from data/POIList.csv).\n",
    "### Note: a POI is a geographical Point of Interest."
   ]
  },
  {
   "cell_type": "code",
   "execution_count": 398,
   "metadata": {},
   "outputs": [],
   "source": [
    "# Add new columns of \"coordinates\" (latitude, longtitude), \"distances\",\"Min_distance\", and \"Min_distance_poi\" to dataframe"
   ]
  },
  {
   "cell_type": "code",
   "execution_count": 399,
   "metadata": {},
   "outputs": [],
   "source": [
    "def coordinate_maker (row):\n",
    "    return((row['Latitude'],row['Longitude']))"
   ]
  },
  {
   "cell_type": "code",
   "execution_count": 400,
   "metadata": {},
   "outputs": [
    {
     "name": "stderr",
     "output_type": "stream",
     "text": [
      "C:\\Users\\smart\\Anaconda3\\lib\\site-packages\\ipykernel_launcher.py:1: SettingWithCopyWarning: \n",
      "A value is trying to be set on a copy of a slice from a DataFrame.\n",
      "Try using .loc[row_indexer,col_indexer] = value instead\n",
      "\n",
      "See the caveats in the documentation: http://pandas.pydata.org/pandas-docs/stable/indexing.html#indexing-view-versus-copy\n",
      "  \"\"\"Entry point for launching an IPython kernel.\n"
     ]
    },
    {
     "data": {
      "text/html": [
       "<div>\n",
       "<style scoped>\n",
       "    .dataframe tbody tr th:only-of-type {\n",
       "        vertical-align: middle;\n",
       "    }\n",
       "\n",
       "    .dataframe tbody tr th {\n",
       "        vertical-align: top;\n",
       "    }\n",
       "\n",
       "    .dataframe thead th {\n",
       "        text-align: right;\n",
       "    }\n",
       "</style>\n",
       "<table border=\"1\" class=\"dataframe\">\n",
       "  <thead>\n",
       "    <tr style=\"text-align: right;\">\n",
       "      <th></th>\n",
       "      <th>_ID</th>\n",
       "      <th>TimeSt</th>\n",
       "      <th>Country</th>\n",
       "      <th>Province</th>\n",
       "      <th>City</th>\n",
       "      <th>Latitude</th>\n",
       "      <th>Longitude</th>\n",
       "      <th>Coordinate</th>\n",
       "    </tr>\n",
       "  </thead>\n",
       "  <tbody>\n",
       "    <tr>\n",
       "      <th>0</th>\n",
       "      <td>4516516</td>\n",
       "      <td>2017-06-21 0:00</td>\n",
       "      <td>CA</td>\n",
       "      <td>ON</td>\n",
       "      <td>Waterloo</td>\n",
       "      <td>43.49347</td>\n",
       "      <td>-80.49123</td>\n",
       "      <td>(43.49347, -80.49123)</td>\n",
       "    </tr>\n",
       "    <tr>\n",
       "      <th>1</th>\n",
       "      <td>4516547</td>\n",
       "      <td>2017-06-21 18:00</td>\n",
       "      <td>CA</td>\n",
       "      <td>ON</td>\n",
       "      <td>London</td>\n",
       "      <td>42.93990</td>\n",
       "      <td>-81.27090</td>\n",
       "      <td>(42.9399, -81.2709)</td>\n",
       "    </tr>\n",
       "    <tr>\n",
       "      <th>2</th>\n",
       "      <td>4516550</td>\n",
       "      <td>2017-06-21 15:00</td>\n",
       "      <td>CA</td>\n",
       "      <td>ON</td>\n",
       "      <td>Guelph</td>\n",
       "      <td>43.57760</td>\n",
       "      <td>-80.22010</td>\n",
       "      <td>(43.5776, -80.2201)</td>\n",
       "    </tr>\n",
       "    <tr>\n",
       "      <th>5</th>\n",
       "      <td>4516693</td>\n",
       "      <td>2017-06-21 14:00</td>\n",
       "      <td>CA</td>\n",
       "      <td>ON</td>\n",
       "      <td>Kitchener</td>\n",
       "      <td>43.43810</td>\n",
       "      <td>-80.50990</td>\n",
       "      <td>(43.4381, -80.5099)</td>\n",
       "    </tr>\n",
       "    <tr>\n",
       "      <th>6</th>\n",
       "      <td>4516771</td>\n",
       "      <td>2017-06-21 10:00</td>\n",
       "      <td>CA</td>\n",
       "      <td>ON</td>\n",
       "      <td>Sarnia</td>\n",
       "      <td>42.96100</td>\n",
       "      <td>-82.37300</td>\n",
       "      <td>(42.961000000000006, -82.37299999999999)</td>\n",
       "    </tr>\n",
       "  </tbody>\n",
       "</table>\n",
       "</div>"
      ],
      "text/plain": [
       "       _ID            TimeSt Country Province       City  Latitude  Longitude  \\\n",
       "0  4516516   2017-06-21 0:00      CA       ON   Waterloo  43.49347  -80.49123   \n",
       "1  4516547  2017-06-21 18:00      CA       ON     London  42.93990  -81.27090   \n",
       "2  4516550  2017-06-21 15:00      CA       ON     Guelph  43.57760  -80.22010   \n",
       "5  4516693  2017-06-21 14:00      CA       ON  Kitchener  43.43810  -80.50990   \n",
       "6  4516771  2017-06-21 10:00      CA       ON     Sarnia  42.96100  -82.37300   \n",
       "\n",
       "                                 Coordinate  \n",
       "0                     (43.49347, -80.49123)  \n",
       "1                       (42.9399, -81.2709)  \n",
       "2                       (43.5776, -80.2201)  \n",
       "5                       (43.4381, -80.5099)  \n",
       "6  (42.961000000000006, -82.37299999999999)  "
      ]
     },
     "execution_count": 400,
     "metadata": {},
     "output_type": "execute_result"
    }
   ],
   "source": [
    "data_sample_v1 ['Coordinate'] = data_sample_v1.apply (lambda row: coordinate_maker(row), axis=1)\n",
    "data_sample_v1.head()"
   ]
  },
  {
   "cell_type": "code",
   "execution_count": 401,
   "metadata": {},
   "outputs": [
    {
     "name": "stdout",
     "output_type": "stream",
     "text": [
      "Requirement already satisfied: mpu in c:\\users\\smart\\anaconda3\\lib\\site-packages (0.23.1)\n",
      "Note: you may need to restart the kernel to use updated packages.\n"
     ]
    }
   ],
   "source": [
    "pip install mpu"
   ]
  },
  {
   "cell_type": "code",
   "execution_count": 402,
   "metadata": {},
   "outputs": [],
   "source": [
    "def distance_calculator(row,poi_coordinate_list):\n",
    "    distances = []\n",
    "    for coord in pois_coord_list:\n",
    "        distance = mpu.haversine_distance(coord, row['Coordinate'])\n",
    "        distances.append(distance)\n",
    "    return(distances)"
   ]
  },
  {
   "cell_type": "code",
   "execution_count": 403,
   "metadata": {},
   "outputs": [
    {
     "name": "stderr",
     "output_type": "stream",
     "text": [
      "C:\\Users\\smart\\Anaconda3\\lib\\site-packages\\ipykernel_launcher.py:1: SettingWithCopyWarning: \n",
      "A value is trying to be set on a copy of a slice from a DataFrame.\n",
      "Try using .loc[row_indexer,col_indexer] = value instead\n",
      "\n",
      "See the caveats in the documentation: http://pandas.pydata.org/pandas-docs/stable/indexing.html#indexing-view-versus-copy\n",
      "  \"\"\"Entry point for launching an IPython kernel.\n"
     ]
    },
    {
     "data": {
      "text/html": [
       "<div>\n",
       "<style scoped>\n",
       "    .dataframe tbody tr th:only-of-type {\n",
       "        vertical-align: middle;\n",
       "    }\n",
       "\n",
       "    .dataframe tbody tr th {\n",
       "        vertical-align: top;\n",
       "    }\n",
       "\n",
       "    .dataframe thead th {\n",
       "        text-align: right;\n",
       "    }\n",
       "</style>\n",
       "<table border=\"1\" class=\"dataframe\">\n",
       "  <thead>\n",
       "    <tr style=\"text-align: right;\">\n",
       "      <th></th>\n",
       "      <th>_ID</th>\n",
       "      <th>TimeSt</th>\n",
       "      <th>Country</th>\n",
       "      <th>Province</th>\n",
       "      <th>City</th>\n",
       "      <th>Latitude</th>\n",
       "      <th>Longitude</th>\n",
       "      <th>Coordinate</th>\n",
       "      <th>Distances</th>\n",
       "    </tr>\n",
       "  </thead>\n",
       "  <tbody>\n",
       "    <tr>\n",
       "      <th>0</th>\n",
       "      <td>4516516</td>\n",
       "      <td>2017-06-21 0:00</td>\n",
       "      <td>CA</td>\n",
       "      <td>ON</td>\n",
       "      <td>Waterloo</td>\n",
       "      <td>43.49347</td>\n",
       "      <td>-80.49123</td>\n",
       "      <td>(43.49347, -80.49123)</td>\n",
       "      <td>[2643.752568089907, 593.4134412324523, 1382.79...</td>\n",
       "    </tr>\n",
       "    <tr>\n",
       "      <th>1</th>\n",
       "      <td>4516547</td>\n",
       "      <td>2017-06-21 18:00</td>\n",
       "      <td>CA</td>\n",
       "      <td>ON</td>\n",
       "      <td>London</td>\n",
       "      <td>42.93990</td>\n",
       "      <td>-81.27090</td>\n",
       "      <td>(42.9399, -81.2709)</td>\n",
       "      <td>[2630.7162097829278, 677.3096549572064, 1459.8...</td>\n",
       "    </tr>\n",
       "    <tr>\n",
       "      <th>2</th>\n",
       "      <td>4516550</td>\n",
       "      <td>2017-06-21 15:00</td>\n",
       "      <td>CA</td>\n",
       "      <td>ON</td>\n",
       "      <td>Guelph</td>\n",
       "      <td>43.57760</td>\n",
       "      <td>-80.22010</td>\n",
       "      <td>(43.5776, -80.2201)</td>\n",
       "      <td>[2655.7542287959864, 569.6477373989128, 1359.3...</td>\n",
       "    </tr>\n",
       "    <tr>\n",
       "      <th>5</th>\n",
       "      <td>4516693</td>\n",
       "      <td>2017-06-21 14:00</td>\n",
       "      <td>CA</td>\n",
       "      <td>ON</td>\n",
       "      <td>Kitchener</td>\n",
       "      <td>43.43810</td>\n",
       "      <td>-80.50990</td>\n",
       "      <td>(43.4381, -80.5099)</td>\n",
       "      <td>[2646.2216632370246, 597.3787433319692, 1385.7...</td>\n",
       "    </tr>\n",
       "    <tr>\n",
       "      <th>6</th>\n",
       "      <td>4516771</td>\n",
       "      <td>2017-06-21 10:00</td>\n",
       "      <td>CA</td>\n",
       "      <td>ON</td>\n",
       "      <td>Sarnia</td>\n",
       "      <td>42.96100</td>\n",
       "      <td>-82.37300</td>\n",
       "      <td>(42.961000000000006, -82.37299999999999)</td>\n",
       "      <td>[2558.6390867612427, 756.628214340532, 1545.37...</td>\n",
       "    </tr>\n",
       "  </tbody>\n",
       "</table>\n",
       "</div>"
      ],
      "text/plain": [
       "       _ID            TimeSt Country Province       City  Latitude  Longitude  \\\n",
       "0  4516516   2017-06-21 0:00      CA       ON   Waterloo  43.49347  -80.49123   \n",
       "1  4516547  2017-06-21 18:00      CA       ON     London  42.93990  -81.27090   \n",
       "2  4516550  2017-06-21 15:00      CA       ON     Guelph  43.57760  -80.22010   \n",
       "5  4516693  2017-06-21 14:00      CA       ON  Kitchener  43.43810  -80.50990   \n",
       "6  4516771  2017-06-21 10:00      CA       ON     Sarnia  42.96100  -82.37300   \n",
       "\n",
       "                                 Coordinate  \\\n",
       "0                     (43.49347, -80.49123)   \n",
       "1                       (42.9399, -81.2709)   \n",
       "2                       (43.5776, -80.2201)   \n",
       "5                       (43.4381, -80.5099)   \n",
       "6  (42.961000000000006, -82.37299999999999)   \n",
       "\n",
       "                                           Distances  \n",
       "0  [2643.752568089907, 593.4134412324523, 1382.79...  \n",
       "1  [2630.7162097829278, 677.3096549572064, 1459.8...  \n",
       "2  [2655.7542287959864, 569.6477373989128, 1359.3...  \n",
       "5  [2646.2216632370246, 597.3787433319692, 1385.7...  \n",
       "6  [2558.6390867612427, 756.628214340532, 1545.37...  "
      ]
     },
     "execution_count": 403,
     "metadata": {},
     "output_type": "execute_result"
    }
   ],
   "source": [
    "data_sample_v1 ['Distances'] = data_sample_v1.apply (lambda row: distance_calculator(row,pois_coord_list), axis=1)\n",
    "data_sample_v1.head()"
   ]
  },
  {
   "cell_type": "code",
   "execution_count": 404,
   "metadata": {},
   "outputs": [],
   "source": [
    "def min_distance_labeler (row):\n",
    "    min_index = row['Distances'].index(min(row['Distances']))\n",
    "    closest_poi = pois[min_index]\n",
    "    return(closest_poi)"
   ]
  },
  {
   "cell_type": "code",
   "execution_count": 405,
   "metadata": {},
   "outputs": [
    {
     "name": "stderr",
     "output_type": "stream",
     "text": [
      "C:\\Users\\smart\\Anaconda3\\lib\\site-packages\\ipykernel_launcher.py:1: SettingWithCopyWarning: \n",
      "A value is trying to be set on a copy of a slice from a DataFrame.\n",
      "Try using .loc[row_indexer,col_indexer] = value instead\n",
      "\n",
      "See the caveats in the documentation: http://pandas.pydata.org/pandas-docs/stable/indexing.html#indexing-view-versus-copy\n",
      "  \"\"\"Entry point for launching an IPython kernel.\n"
     ]
    },
    {
     "data": {
      "text/html": [
       "<div>\n",
       "<style scoped>\n",
       "    .dataframe tbody tr th:only-of-type {\n",
       "        vertical-align: middle;\n",
       "    }\n",
       "\n",
       "    .dataframe tbody tr th {\n",
       "        vertical-align: top;\n",
       "    }\n",
       "\n",
       "    .dataframe thead th {\n",
       "        text-align: right;\n",
       "    }\n",
       "</style>\n",
       "<table border=\"1\" class=\"dataframe\">\n",
       "  <thead>\n",
       "    <tr style=\"text-align: right;\">\n",
       "      <th></th>\n",
       "      <th>_ID</th>\n",
       "      <th>TimeSt</th>\n",
       "      <th>Country</th>\n",
       "      <th>Province</th>\n",
       "      <th>City</th>\n",
       "      <th>Latitude</th>\n",
       "      <th>Longitude</th>\n",
       "      <th>Coordinate</th>\n",
       "      <th>Distances</th>\n",
       "      <th>Min_distance_poi</th>\n",
       "    </tr>\n",
       "  </thead>\n",
       "  <tbody>\n",
       "    <tr>\n",
       "      <th>22010</th>\n",
       "      <td>5614377</td>\n",
       "      <td>2017-06-21 22:22</td>\n",
       "      <td>CA</td>\n",
       "      <td>ON</td>\n",
       "      <td>Barrie</td>\n",
       "      <td>44.33030</td>\n",
       "      <td>-79.72680</td>\n",
       "      <td>(44.3303, -79.7268)</td>\n",
       "      <td>[2639.0809225947796, 502.6455016323312, 1303.4...</td>\n",
       "      <td>poi3</td>\n",
       "    </tr>\n",
       "    <tr>\n",
       "      <th>22012</th>\n",
       "      <td>5614446</td>\n",
       "      <td>2017-06-21 7:22</td>\n",
       "      <td>CA</td>\n",
       "      <td>AB</td>\n",
       "      <td>Calgary</td>\n",
       "      <td>51.04505</td>\n",
       "      <td>-114.09047</td>\n",
       "      <td>(51.04505, -114.09047)</td>\n",
       "      <td>[281.1328602084397, 3020.6305753315955, 3751.8...</td>\n",
       "      <td>poi2</td>\n",
       "    </tr>\n",
       "    <tr>\n",
       "      <th>22014</th>\n",
       "      <td>5614515</td>\n",
       "      <td>2017-06-21 3:22</td>\n",
       "      <td>CA</td>\n",
       "      <td>AB</td>\n",
       "      <td>Red Deer</td>\n",
       "      <td>52.26940</td>\n",
       "      <td>-113.76900</td>\n",
       "      <td>(52.2694, -113.76899999999999)</td>\n",
       "      <td>[143.23494449436328, 2991.323968663042, 3707.6...</td>\n",
       "      <td>poi2</td>\n",
       "    </tr>\n",
       "    <tr>\n",
       "      <th>22015</th>\n",
       "      <td>5614548</td>\n",
       "      <td>2017-06-21 0:22</td>\n",
       "      <td>CA</td>\n",
       "      <td>AB</td>\n",
       "      <td>Red Deer</td>\n",
       "      <td>52.26510</td>\n",
       "      <td>-113.79400</td>\n",
       "      <td>(52.2651, -113.794)</td>\n",
       "      <td>[143.94016689598473, 2993.038717397366, 3709.4...</td>\n",
       "      <td>poi2</td>\n",
       "    </tr>\n",
       "    <tr>\n",
       "      <th>22016</th>\n",
       "      <td>5614566</td>\n",
       "      <td>2017-06-21 8:22</td>\n",
       "      <td>CA</td>\n",
       "      <td>BC</td>\n",
       "      <td>Vancouver</td>\n",
       "      <td>49.26460</td>\n",
       "      <td>-123.10000</td>\n",
       "      <td>(49.2646, -123.1)</td>\n",
       "      <td>[818.2764911791327, 3684.4626540570207, 4422.1...</td>\n",
       "      <td>poi2</td>\n",
       "    </tr>\n",
       "    <tr>\n",
       "      <th>22018</th>\n",
       "      <td>5614689</td>\n",
       "      <td>2017-06-21 13:23</td>\n",
       "      <td>CA</td>\n",
       "      <td>ON</td>\n",
       "      <td>London</td>\n",
       "      <td>42.96110</td>\n",
       "      <td>-81.24310</td>\n",
       "      <td>(42.9611, -81.2431)</td>\n",
       "      <td>[2631.056231675779, 674.211227839807, 1457.005...</td>\n",
       "      <td>poi3</td>\n",
       "    </tr>\n",
       "    <tr>\n",
       "      <th>22020</th>\n",
       "      <td>5614801</td>\n",
       "      <td>2017-06-21 12:23</td>\n",
       "      <td>CA</td>\n",
       "      <td>ON</td>\n",
       "      <td>Saint Catharines</td>\n",
       "      <td>43.16440</td>\n",
       "      <td>-79.24560</td>\n",
       "      <td>(43.1644, -79.2456)</td>\n",
       "      <td>[2746.37971506996, 522.0193020213827, 1294.753...</td>\n",
       "      <td>poi3</td>\n",
       "    </tr>\n",
       "    <tr>\n",
       "      <th>22022</th>\n",
       "      <td>5614909</td>\n",
       "      <td>2017-06-21 0:23</td>\n",
       "      <td>CA</td>\n",
       "      <td>ON</td>\n",
       "      <td>Whitby</td>\n",
       "      <td>43.88730</td>\n",
       "      <td>-78.94220</td>\n",
       "      <td>(43.8873, -78.9422)</td>\n",
       "      <td>[2718.66265949371, 461.99512937156834, 1251.54...</td>\n",
       "      <td>poi3</td>\n",
       "    </tr>\n",
       "    <tr>\n",
       "      <th>22023</th>\n",
       "      <td>5614912</td>\n",
       "      <td>2017-06-21 11:23</td>\n",
       "      <td>CA</td>\n",
       "      <td>ON</td>\n",
       "      <td>Oakville</td>\n",
       "      <td>43.49340</td>\n",
       "      <td>-79.71260</td>\n",
       "      <td>(43.4934, -79.7126)</td>\n",
       "      <td>[2694.2386448390153, 536.8740990194269, 1321.8...</td>\n",
       "      <td>poi3</td>\n",
       "    </tr>\n",
       "    <tr>\n",
       "      <th>22024</th>\n",
       "      <td>5615006</td>\n",
       "      <td>2017-06-21 17:23</td>\n",
       "      <td>CA</td>\n",
       "      <td>ON</td>\n",
       "      <td>Oakville</td>\n",
       "      <td>43.43090</td>\n",
       "      <td>-79.77670</td>\n",
       "      <td>(43.4309, -79.7767)</td>\n",
       "      <td>[2694.2092023133687, 544.6513133001247, 1328.5...</td>\n",
       "      <td>poi3</td>\n",
       "    </tr>\n",
       "  </tbody>\n",
       "</table>\n",
       "</div>"
      ],
      "text/plain": [
       "           _ID            TimeSt Country Province              City  Latitude  \\\n",
       "22010  5614377  2017-06-21 22:22      CA       ON            Barrie  44.33030   \n",
       "22012  5614446   2017-06-21 7:22      CA       AB           Calgary  51.04505   \n",
       "22014  5614515   2017-06-21 3:22      CA       AB          Red Deer  52.26940   \n",
       "22015  5614548   2017-06-21 0:22      CA       AB          Red Deer  52.26510   \n",
       "22016  5614566   2017-06-21 8:22      CA       BC         Vancouver  49.26460   \n",
       "22018  5614689  2017-06-21 13:23      CA       ON            London  42.96110   \n",
       "22020  5614801  2017-06-21 12:23      CA       ON  Saint Catharines  43.16440   \n",
       "22022  5614909   2017-06-21 0:23      CA       ON            Whitby  43.88730   \n",
       "22023  5614912  2017-06-21 11:23      CA       ON          Oakville  43.49340   \n",
       "22024  5615006  2017-06-21 17:23      CA       ON          Oakville  43.43090   \n",
       "\n",
       "       Longitude                      Coordinate  \\\n",
       "22010  -79.72680             (44.3303, -79.7268)   \n",
       "22012 -114.09047          (51.04505, -114.09047)   \n",
       "22014 -113.76900  (52.2694, -113.76899999999999)   \n",
       "22015 -113.79400             (52.2651, -113.794)   \n",
       "22016 -123.10000               (49.2646, -123.1)   \n",
       "22018  -81.24310             (42.9611, -81.2431)   \n",
       "22020  -79.24560             (43.1644, -79.2456)   \n",
       "22022  -78.94220             (43.8873, -78.9422)   \n",
       "22023  -79.71260             (43.4934, -79.7126)   \n",
       "22024  -79.77670             (43.4309, -79.7767)   \n",
       "\n",
       "                                               Distances Min_distance_poi  \n",
       "22010  [2639.0809225947796, 502.6455016323312, 1303.4...             poi3  \n",
       "22012  [281.1328602084397, 3020.6305753315955, 3751.8...             poi2  \n",
       "22014  [143.23494449436328, 2991.323968663042, 3707.6...             poi2  \n",
       "22015  [143.94016689598473, 2993.038717397366, 3709.4...             poi2  \n",
       "22016  [818.2764911791327, 3684.4626540570207, 4422.1...             poi2  \n",
       "22018  [2631.056231675779, 674.211227839807, 1457.005...             poi3  \n",
       "22020  [2746.37971506996, 522.0193020213827, 1294.753...             poi3  \n",
       "22022  [2718.66265949371, 461.99512937156834, 1251.54...             poi3  \n",
       "22023  [2694.2386448390153, 536.8740990194269, 1321.8...             poi3  \n",
       "22024  [2694.2092023133687, 544.6513133001247, 1328.5...             poi3  "
      ]
     },
     "execution_count": 405,
     "metadata": {},
     "output_type": "execute_result"
    }
   ],
   "source": [
    "data_sample_v1 ['Min_distance_poi'] = data_sample_v1.apply (lambda row: min_distance_labeler(row), axis=1)\n",
    "data_sample_v1.tail(10)"
   ]
  },
  {
   "cell_type": "code",
   "execution_count": 406,
   "metadata": {},
   "outputs": [],
   "source": [
    "def min_distance_finder (row):\n",
    "    min_distance = min(row['Distances'])\n",
    "    return(min_distance)"
   ]
  },
  {
   "cell_type": "code",
   "execution_count": 407,
   "metadata": {},
   "outputs": [
    {
     "name": "stderr",
     "output_type": "stream",
     "text": [
      "C:\\Users\\smart\\Anaconda3\\lib\\site-packages\\ipykernel_launcher.py:1: SettingWithCopyWarning: \n",
      "A value is trying to be set on a copy of a slice from a DataFrame.\n",
      "Try using .loc[row_indexer,col_indexer] = value instead\n",
      "\n",
      "See the caveats in the documentation: http://pandas.pydata.org/pandas-docs/stable/indexing.html#indexing-view-versus-copy\n",
      "  \"\"\"Entry point for launching an IPython kernel.\n"
     ]
    },
    {
     "data": {
      "text/html": [
       "<div>\n",
       "<style scoped>\n",
       "    .dataframe tbody tr th:only-of-type {\n",
       "        vertical-align: middle;\n",
       "    }\n",
       "\n",
       "    .dataframe tbody tr th {\n",
       "        vertical-align: top;\n",
       "    }\n",
       "\n",
       "    .dataframe thead th {\n",
       "        text-align: right;\n",
       "    }\n",
       "</style>\n",
       "<table border=\"1\" class=\"dataframe\">\n",
       "  <thead>\n",
       "    <tr style=\"text-align: right;\">\n",
       "      <th></th>\n",
       "      <th>_ID</th>\n",
       "      <th>TimeSt</th>\n",
       "      <th>Country</th>\n",
       "      <th>Province</th>\n",
       "      <th>City</th>\n",
       "      <th>Latitude</th>\n",
       "      <th>Longitude</th>\n",
       "      <th>Coordinate</th>\n",
       "      <th>Distances</th>\n",
       "      <th>Min_distance_poi</th>\n",
       "      <th>Min_distance</th>\n",
       "    </tr>\n",
       "  </thead>\n",
       "  <tbody>\n",
       "    <tr>\n",
       "      <th>22018</th>\n",
       "      <td>5614689</td>\n",
       "      <td>2017-06-21 13:23</td>\n",
       "      <td>CA</td>\n",
       "      <td>ON</td>\n",
       "      <td>London</td>\n",
       "      <td>42.9611</td>\n",
       "      <td>-81.2431</td>\n",
       "      <td>(42.9611, -81.2431)</td>\n",
       "      <td>[2631.056231675779, 674.211227839807, 1457.005...</td>\n",
       "      <td>poi3</td>\n",
       "      <td>674.211228</td>\n",
       "    </tr>\n",
       "    <tr>\n",
       "      <th>22020</th>\n",
       "      <td>5614801</td>\n",
       "      <td>2017-06-21 12:23</td>\n",
       "      <td>CA</td>\n",
       "      <td>ON</td>\n",
       "      <td>Saint Catharines</td>\n",
       "      <td>43.1644</td>\n",
       "      <td>-79.2456</td>\n",
       "      <td>(43.1644, -79.2456)</td>\n",
       "      <td>[2746.37971506996, 522.0193020213827, 1294.753...</td>\n",
       "      <td>poi3</td>\n",
       "      <td>522.019302</td>\n",
       "    </tr>\n",
       "    <tr>\n",
       "      <th>22022</th>\n",
       "      <td>5614909</td>\n",
       "      <td>2017-06-21 0:23</td>\n",
       "      <td>CA</td>\n",
       "      <td>ON</td>\n",
       "      <td>Whitby</td>\n",
       "      <td>43.8873</td>\n",
       "      <td>-78.9422</td>\n",
       "      <td>(43.8873, -78.9422)</td>\n",
       "      <td>[2718.66265949371, 461.99512937156834, 1251.54...</td>\n",
       "      <td>poi3</td>\n",
       "      <td>461.995129</td>\n",
       "    </tr>\n",
       "    <tr>\n",
       "      <th>22023</th>\n",
       "      <td>5614912</td>\n",
       "      <td>2017-06-21 11:23</td>\n",
       "      <td>CA</td>\n",
       "      <td>ON</td>\n",
       "      <td>Oakville</td>\n",
       "      <td>43.4934</td>\n",
       "      <td>-79.7126</td>\n",
       "      <td>(43.4934, -79.7126)</td>\n",
       "      <td>[2694.2386448390153, 536.8740990194269, 1321.8...</td>\n",
       "      <td>poi3</td>\n",
       "      <td>536.874099</td>\n",
       "    </tr>\n",
       "    <tr>\n",
       "      <th>22024</th>\n",
       "      <td>5615006</td>\n",
       "      <td>2017-06-21 17:23</td>\n",
       "      <td>CA</td>\n",
       "      <td>ON</td>\n",
       "      <td>Oakville</td>\n",
       "      <td>43.4309</td>\n",
       "      <td>-79.7767</td>\n",
       "      <td>(43.4309, -79.7767)</td>\n",
       "      <td>[2694.2092023133687, 544.6513133001247, 1328.5...</td>\n",
       "      <td>poi3</td>\n",
       "      <td>544.651313</td>\n",
       "    </tr>\n",
       "  </tbody>\n",
       "</table>\n",
       "</div>"
      ],
      "text/plain": [
       "           _ID            TimeSt Country Province              City  Latitude  \\\n",
       "22018  5614689  2017-06-21 13:23      CA       ON            London   42.9611   \n",
       "22020  5614801  2017-06-21 12:23      CA       ON  Saint Catharines   43.1644   \n",
       "22022  5614909   2017-06-21 0:23      CA       ON            Whitby   43.8873   \n",
       "22023  5614912  2017-06-21 11:23      CA       ON          Oakville   43.4934   \n",
       "22024  5615006  2017-06-21 17:23      CA       ON          Oakville   43.4309   \n",
       "\n",
       "       Longitude           Coordinate  \\\n",
       "22018   -81.2431  (42.9611, -81.2431)   \n",
       "22020   -79.2456  (43.1644, -79.2456)   \n",
       "22022   -78.9422  (43.8873, -78.9422)   \n",
       "22023   -79.7126  (43.4934, -79.7126)   \n",
       "22024   -79.7767  (43.4309, -79.7767)   \n",
       "\n",
       "                                               Distances Min_distance_poi  \\\n",
       "22018  [2631.056231675779, 674.211227839807, 1457.005...             poi3   \n",
       "22020  [2746.37971506996, 522.0193020213827, 1294.753...             poi3   \n",
       "22022  [2718.66265949371, 461.99512937156834, 1251.54...             poi3   \n",
       "22023  [2694.2386448390153, 536.8740990194269, 1321.8...             poi3   \n",
       "22024  [2694.2092023133687, 544.6513133001247, 1328.5...             poi3   \n",
       "\n",
       "       Min_distance  \n",
       "22018    674.211228  \n",
       "22020    522.019302  \n",
       "22022    461.995129  \n",
       "22023    536.874099  \n",
       "22024    544.651313  "
      ]
     },
     "execution_count": 407,
     "metadata": {},
     "output_type": "execute_result"
    }
   ],
   "source": [
    "data_sample_v1 ['Min_distance'] = data_sample_v1.apply (lambda row: min_distance_finder(row), axis=1)\n",
    "data_sample_v1.tail()"
   ]
  },
  {
   "cell_type": "markdown",
   "metadata": {},
   "source": [
    "# 3. Analysis"
   ]
  },
  {
   "cell_type": "markdown",
   "metadata": {},
   "source": [
    "## 3.1. \n",
    "### For each POI, calculate the average and standard deviation of the distance between the POI to each of its assigned requests."
   ]
  },
  {
   "cell_type": "code",
   "execution_count": 408,
   "metadata": {},
   "outputs": [
    {
     "data": {
      "text/html": [
       "<div>\n",
       "<style scoped>\n",
       "    .dataframe tbody tr th:only-of-type {\n",
       "        vertical-align: middle;\n",
       "    }\n",
       "\n",
       "    .dataframe tbody tr th {\n",
       "        vertical-align: top;\n",
       "    }\n",
       "\n",
       "    .dataframe thead tr th {\n",
       "        text-align: left;\n",
       "    }\n",
       "\n",
       "    .dataframe thead tr:last-of-type th {\n",
       "        text-align: right;\n",
       "    }\n",
       "</style>\n",
       "<table border=\"1\" class=\"dataframe\">\n",
       "  <thead>\n",
       "    <tr>\n",
       "      <th></th>\n",
       "      <th colspan=\"4\" halign=\"left\">Min_distance</th>\n",
       "    </tr>\n",
       "    <tr>\n",
       "      <th></th>\n",
       "      <th>mean</th>\n",
       "      <th>max</th>\n",
       "      <th>std</th>\n",
       "      <th>count</th>\n",
       "    </tr>\n",
       "    <tr>\n",
       "      <th>Min_distance_poi</th>\n",
       "      <th></th>\n",
       "      <th></th>\n",
       "      <th></th>\n",
       "      <th></th>\n",
       "    </tr>\n",
       "  </thead>\n",
       "  <tbody>\n",
       "    <tr>\n",
       "      <th>poi2</th>\n",
       "      <td>302.717751</td>\n",
       "      <td>11531.820832</td>\n",
       "      <td>393.968533</td>\n",
       "      <td>8405</td>\n",
       "    </tr>\n",
       "    <tr>\n",
       "      <th>poi3</th>\n",
       "      <td>449.550639</td>\n",
       "      <td>1474.580962</td>\n",
       "      <td>224.269622</td>\n",
       "      <td>8342</td>\n",
       "    </tr>\n",
       "    <tr>\n",
       "      <th>poi4</th>\n",
       "      <td>524.168847</td>\n",
       "      <td>9349.572770</td>\n",
       "      <td>1523.900297</td>\n",
       "      <td>412</td>\n",
       "    </tr>\n",
       "  </tbody>\n",
       "</table>\n",
       "</div>"
      ],
      "text/plain": [
       "                 Min_distance                                 \n",
       "                         mean           max          std count\n",
       "Min_distance_poi                                              \n",
       "poi2               302.717751  11531.820832   393.968533  8405\n",
       "poi3               449.550639   1474.580962   224.269622  8342\n",
       "poi4               524.168847   9349.572770  1523.900297   412"
      ]
     },
     "execution_count": 408,
     "metadata": {},
     "output_type": "execute_result"
    }
   ],
   "source": [
    "aggregate_table = data_sample_v1.groupby('Min_distance_poi').agg({'Min_distance':['mean','max','std','count']})\n",
    "aggregate_table"
   ]
  },
  {
   "cell_type": "code",
   "execution_count": 409,
   "metadata": {},
   "outputs": [
    {
     "name": "stdout",
     "output_type": "stream",
     "text": [
      "poi2: average is 302.71775082426535m and std is 393.9685325803562m\n",
      "poi3: average is 449.5506389556918m and std is 224.2696215413525m\n",
      "poi4: average is 524.1688471912947m and std is 1523.9002968045197m\n"
     ]
    }
   ],
   "source": [
    "for poi in pois:\n",
    "    print('{}: average is {}m and std is {}m'.format(poi,aggregate_table.loc[poi].Min_distance['mean'],\n",
    "                                                     aggregate_table.loc[poi].Min_distance['std']))"
   ]
  },
  {
   "cell_type": "code",
   "execution_count": 410,
   "metadata": {},
   "outputs": [],
   "source": [
    "# Create sub dataframes for each POI\n",
    "# poi2\n",
    "poi2_requests = data_sample_v1.loc[data_sample_v1['Min_distance_poi'] == 'poi2']\n"
   ]
  },
  {
   "cell_type": "code",
   "execution_count": 411,
   "metadata": {},
   "outputs": [],
   "source": [
    "# poi3\n",
    "poi3_requests = data_sample_v1.loc[data_sample_v1['Min_distance_poi'] == 'poi3']\n"
   ]
  },
  {
   "cell_type": "code",
   "execution_count": 412,
   "metadata": {},
   "outputs": [],
   "source": [
    "# poi4\n",
    "poi4_requests = data_sample_v1.loc[data_sample_v1['Min_distance_poi'] == 'poi4']\n"
   ]
  },
  {
   "cell_type": "markdown",
   "metadata": {},
   "source": [
    "## 3.2. \n",
    "### At each POI, draw a circle (with the center at the POI) that includes all of its assigned requests. Calculate the radius and density (requests/area) for each POI."
   ]
  },
  {
   "cell_type": "code",
   "execution_count": 413,
   "metadata": {},
   "outputs": [
    {
     "data": {
      "text/plain": [
       "{'poi2': 11531.82083183645,\n",
       " 'poi3': 1474.5809620285693,\n",
       " 'poi4': 9349.572770487366}"
      ]
     },
     "execution_count": 413,
     "metadata": {},
     "output_type": "execute_result"
    }
   ],
   "source": [
    "# Radius = max(Min_distance) for each POI\n",
    "radius_meters={}\n",
    "for poi in pois:\n",
    "    radius_meters[poi]=aggregate_table.loc[poi].Min_distance['max']\n",
    "\n",
    "radius_meters "
   ]
  },
  {
   "cell_type": "code",
   "execution_count": 414,
   "metadata": {},
   "outputs": [],
   "source": [
    "def density_calculator(radius_in_meters,counts):\n",
    "    radius_km = radius_in_meters/1000\n",
    "    density = counts/(np.pi*radius_km*radius_km)\n",
    "    return (density)"
   ]
  },
  {
   "cell_type": "code",
   "execution_count": 415,
   "metadata": {},
   "outputs": [
    {
     "data": {
      "text/plain": [
       "{'poi2': 20.11833672153111,\n",
       " 'poi3': 1221.1895175909044,\n",
       " 'poi4': 1.5002506062382008}"
      ]
     },
     "execution_count": 415,
     "metadata": {},
     "output_type": "execute_result"
    }
   ],
   "source": [
    "density = {}\n",
    "for poi in pois:\n",
    "    density[poi]=density_calculator(radius_meters[poi],aggregate_table.loc[poi].Min_distance['count'])\n",
    "\n",
    "density  \n",
    "    "
   ]
  },
  {
   "cell_type": "code",
   "execution_count": 416,
   "metadata": {},
   "outputs": [
    {
     "data": {
      "image/png": "[encoded data removed]",
      "text/plain": [
       "<Figure size 432x288 with 1 Axes>"
      ]
     },
     "metadata": {
      "needs_background": "light"
     },
     "output_type": "display_data"
    },
    {
     "data": {
      "image/png": "[encoded data removed]",
      "text/plain": [
       "<Figure size 432x288 with 1 Axes>"
      ]
     },
     "metadata": {
      "needs_background": "light"
     },
     "output_type": "display_data"
    },
    {
     "data": {
      "image/png": "[encoded data removed]",
      "text/plain": [
       "<Figure size 432x288 with 1 Axes>"
      ]
     },
     "metadata": {
      "needs_background": "light"
     },
     "output_type": "display_data"
    }
   ],
   "source": [
    "r = [250,20,120]\n",
    "sub_dfs = [poi2_requests,poi3_requests,poi4_requests]\n",
    "for i in range(3):\n",
    "    t = np.arange(0, 2*np.pi, 0.01)\n",
    "    x = (r[i] * np.cos(t))+pois_coord_list[i][0]\n",
    "    y = (r[i] * np.sin(t))+pois_coord_list[i][1]\n",
    "    plt.plot(x,y)\n",
    "    plt.scatter(sub_dfs[i]['Latitude'].values, sub_dfs[i]['Longitude'].values)\n",
    "    plt.scatter(pois_coord_list[i][0],pois_coord_list[i][1], color = 'orange')\n",
    "    plt.title('Distribution of requests closests to POI{}'.format(i))\n",
    "    plt.xlabel('Latitude')\n",
    "    plt.ylabel('Longitude')\n",
    "    plt.show()\n",
    "    \n"
   ]
  },
  {
   "cell_type": "markdown",
   "metadata": {},
   "source": [
    "# 4a. Model"
   ]
  },
  {
   "cell_type": "markdown",
   "metadata": {},
   "source": [
    "## 4a.1. \n",
    "### To visualize the popularity of each POI, map them to a scale that ranges from -10 to 10. Please provide a mathematical model to implement this, taking into consideration of extreme cases and outliers. Aim to be more sensitive around the average and give as much visual differentiability as possible."
   ]
  },
  {
   "cell_type": "code",
   "execution_count": null,
   "metadata": {},
   "outputs": [],
   "source": [
    "# Filter out outliers(any requests further than 3 standard deviation from the mean)"
   ]
  },
  {
   "cell_type": "code",
   "execution_count": 417,
   "metadata": {},
   "outputs": [
    {
     "data": {
      "text/plain": [
       "<matplotlib.axes._subplots.AxesSubplot at 0x1e4b9b2cef0>"
      ]
     },
     "execution_count": 417,
     "metadata": {},
     "output_type": "execute_result"
    },
    {
     "data": {
      "image/png": "[encoded data removed]",
      "text/plain": [
       "<Figure size 432x288 with 1 Axes>"
      ]
     },
     "metadata": {
      "needs_background": "light"
     },
     "output_type": "display_data"
    }
   ],
   "source": [
    "# visualizing the outliers using boxplots \n",
    "import seaborn as sns\n",
    "sns.boxplot(x=poi2_requests['Min_distance'])"
   ]
  },
  {
   "cell_type": "code",
   "execution_count": 418,
   "metadata": {},
   "outputs": [
    {
     "data": {
      "text/plain": [
       "<matplotlib.axes._subplots.AxesSubplot at 0x1e4b9288e80>"
      ]
     },
     "execution_count": 418,
     "metadata": {},
     "output_type": "execute_result"
    },
    {
     "data": {
      "image/png": "[encoded data removed]",
      "text/plain": [
       "<Figure size 432x288 with 1 Axes>"
      ]
     },
     "metadata": {
      "needs_background": "light"
     },
     "output_type": "display_data"
    }
   ],
   "source": [
    "sns.boxplot(x=poi3_requests['Min_distance'])"
   ]
  },
  {
   "cell_type": "code",
   "execution_count": 419,
   "metadata": {},
   "outputs": [
    {
     "data": {
      "text/plain": [
       "<matplotlib.axes._subplots.AxesSubplot at 0x1e4b9ab3860>"
      ]
     },
     "execution_count": 419,
     "metadata": {},
     "output_type": "execute_result"
    },
    {
     "data": {
      "image/png": "[encoded data removed]",
      "text/plain": [
       "<Figure size 432x288 with 1 Axes>"
      ]
     },
     "metadata": {
      "needs_background": "light"
     },
     "output_type": "display_data"
    }
   ],
   "source": [
    "sns.boxplot(x=poi4_requests['Min_distance'])"
   ]
  },
  {
   "cell_type": "code",
   "execution_count": 420,
   "metadata": {},
   "outputs": [],
   "source": [
    "def z_score_calculator (row,mean,std):\n",
    "    z_score = (row['Min_distance'] - mean)/std\n",
    "    return(z_score)"
   ]
  },
  {
   "cell_type": "code",
   "execution_count": 426,
   "metadata": {},
   "outputs": [
    {
     "name": "stderr",
     "output_type": "stream",
     "text": [
      "C:\\Users\\smart\\Anaconda3\\lib\\site-packages\\ipykernel_launcher.py:1: SettingWithCopyWarning: \n",
      "A value is trying to be set on a copy of a slice from a DataFrame.\n",
      "Try using .loc[row_indexer,col_indexer] = value instead\n",
      "\n",
      "See the caveats in the documentation: http://pandas.pydata.org/pandas-docs/stable/indexing.html#indexing-view-versus-copy\n",
      "  \"\"\"Entry point for launching an IPython kernel.\n"
     ]
    }
   ],
   "source": [
    "poi2_requests['z_score'] = poi2_requests.apply (lambda row: z_score_calculator(row,302.717751,393.968533), axis=1)"
   ]
  },
  {
   "cell_type": "code",
   "execution_count": 427,
   "metadata": {},
   "outputs": [
    {
     "name": "stdout",
     "output_type": "stream",
     "text": [
      "8405\n",
      "8388\n",
      "number of outliers in POI2 requests: 17\n"
     ]
    }
   ],
   "source": [
    "# filter outliers (z_score > 3 or z_score < -3)\n",
    "poi2_requests_no_outliers = poi2_requests.loc[abs(poi2_requests['z_score']) < 3]\n",
    "print(len(poi2_requests.index))\n",
    "print(len(poi2_requests_no_outliers.index))\n",
    "print('number of outliers in POI2 requests:', len(poi2_requests.index) - len(poi2_requests_no_outliers.index))\n"
   ]
  },
  {
   "cell_type": "code",
   "execution_count": 428,
   "metadata": {},
   "outputs": [
    {
     "data": {
      "text/html": [
       "<div>\n",
       "<style scoped>\n",
       "    .dataframe tbody tr th:only-of-type {\n",
       "        vertical-align: middle;\n",
       "    }\n",
       "\n",
       "    .dataframe tbody tr th {\n",
       "        vertical-align: top;\n",
       "    }\n",
       "\n",
       "    .dataframe thead th {\n",
       "        text-align: right;\n",
       "    }\n",
       "</style>\n",
       "<table border=\"1\" class=\"dataframe\">\n",
       "  <thead>\n",
       "    <tr style=\"text-align: right;\">\n",
       "      <th></th>\n",
       "      <th>_ID</th>\n",
       "      <th>Latitude</th>\n",
       "      <th>Longitude</th>\n",
       "      <th>Min_distance</th>\n",
       "      <th>z_score</th>\n",
       "    </tr>\n",
       "  </thead>\n",
       "  <tbody>\n",
       "    <tr>\n",
       "      <th>count</th>\n",
       "      <td>8.388000e+03</td>\n",
       "      <td>8388.000000</td>\n",
       "      <td>8388.000000</td>\n",
       "      <td>8388.000000</td>\n",
       "      <td>8388.000000</td>\n",
       "    </tr>\n",
       "    <tr>\n",
       "      <th>mean</th>\n",
       "      <td>5.076669e+06</td>\n",
       "      <td>51.903452</td>\n",
       "      <td>-113.374562</td>\n",
       "      <td>294.391938</td>\n",
       "      <td>-0.021133</td>\n",
       "    </tr>\n",
       "    <tr>\n",
       "      <th>std</th>\n",
       "      <td>3.104954e+05</td>\n",
       "      <td>1.653316</td>\n",
       "      <td>4.620955</td>\n",
       "      <td>283.707074</td>\n",
       "      <td>0.720126</td>\n",
       "    </tr>\n",
       "    <tr>\n",
       "      <th>min</th>\n",
       "      <td>4.525101e+06</td>\n",
       "      <td>48.407330</td>\n",
       "      <td>-130.333320</td>\n",
       "      <td>0.348449</td>\n",
       "      <td>-0.767496</td>\n",
       "    </tr>\n",
       "    <tr>\n",
       "      <th>25%</th>\n",
       "      <td>4.809782e+06</td>\n",
       "      <td>51.015155</td>\n",
       "      <td>-114.095000</td>\n",
       "      <td>15.300020</td>\n",
       "      <td>-0.729545</td>\n",
       "    </tr>\n",
       "    <tr>\n",
       "      <th>50%</th>\n",
       "      <td>5.068960e+06</td>\n",
       "      <td>51.138700</td>\n",
       "      <td>-113.889000</td>\n",
       "      <td>277.574426</td>\n",
       "      <td>-0.063821</td>\n",
       "    </tr>\n",
       "    <tr>\n",
       "      <th>75%</th>\n",
       "      <td>5.341803e+06</td>\n",
       "      <td>53.456700</td>\n",
       "      <td>-113.441000</td>\n",
       "      <td>314.191216</td>\n",
       "      <td>0.029123</td>\n",
       "    </tr>\n",
       "    <tr>\n",
       "      <th>max</th>\n",
       "      <td>5.614566e+06</td>\n",
       "      <td>62.456800</td>\n",
       "      <td>-92.834400</td>\n",
       "      <td>1478.750265</td>\n",
       "      <td>2.985093</td>\n",
       "    </tr>\n",
       "  </tbody>\n",
       "</table>\n",
       "</div>"
      ],
      "text/plain": [
       "                _ID     Latitude    Longitude  Min_distance      z_score\n",
       "count  8.388000e+03  8388.000000  8388.000000   8388.000000  8388.000000\n",
       "mean   5.076669e+06    51.903452  -113.374562    294.391938    -0.021133\n",
       "std    3.104954e+05     1.653316     4.620955    283.707074     0.720126\n",
       "min    4.525101e+06    48.407330  -130.333320      0.348449    -0.767496\n",
       "25%    4.809782e+06    51.015155  -114.095000     15.300020    -0.729545\n",
       "50%    5.068960e+06    51.138700  -113.889000    277.574426    -0.063821\n",
       "75%    5.341803e+06    53.456700  -113.441000    314.191216     0.029123\n",
       "max    5.614566e+06    62.456800   -92.834400   1478.750265     2.985093"
      ]
     },
     "execution_count": 428,
     "metadata": {},
     "output_type": "execute_result"
    }
   ],
   "source": [
    "poi2_requests_no_outliers.describe()"
   ]
  },
  {
   "cell_type": "code",
   "execution_count": 429,
   "metadata": {},
   "outputs": [
    {
     "name": "stdout",
     "output_type": "stream",
     "text": [
      "POI2 density (requests/km^2): 1218.9478293049835\n"
     ]
    }
   ],
   "source": [
    "# POI2, corrected_radius: 1478.750265 m = 1.48 km \n",
    "# POI2 corrected_density: counts/area\n",
    "poi2_corrected_density = 8388 /(np.pi*1.48*1.48)\n",
    "print('POI2 density (requests/km^2):', poi2_corrected_density )\n"
   ]
  },
  {
   "cell_type": "code",
   "execution_count": 430,
   "metadata": {},
   "outputs": [
    {
     "data": {
      "image/png": "[encoded data removed]",
      "text/plain": [
       "<Figure size 432x288 with 1 Axes>"
      ]
     },
     "metadata": {
      "needs_background": "light"
     },
     "output_type": "display_data"
    }
   ],
   "source": [
    "#POI2_corrected \n",
    "\n",
    "plt.scatter(poi2_requests_no_outliers['Latitude'].values, poi2_requests_no_outliers['Longitude'].values)\n",
    "plt.scatter(53.546167,-113.485734, color = 'orange')\n",
    "plt.title('Distribution of requests closests to POI2 after removing outliers')\n",
    "plt.xlabel('Latitude')\n",
    "plt.ylabel('Longitude')\n",
    "plt.show()"
   ]
  },
  {
   "cell_type": "code",
   "execution_count": 431,
   "metadata": {},
   "outputs": [
    {
     "name": "stderr",
     "output_type": "stream",
     "text": [
      "C:\\Users\\smart\\Anaconda3\\lib\\site-packages\\ipykernel_launcher.py:1: SettingWithCopyWarning: \n",
      "A value is trying to be set on a copy of a slice from a DataFrame.\n",
      "Try using .loc[row_indexer,col_indexer] = value instead\n",
      "\n",
      "See the caveats in the documentation: http://pandas.pydata.org/pandas-docs/stable/indexing.html#indexing-view-versus-copy\n",
      "  \"\"\"Entry point for launching an IPython kernel.\n"
     ]
    }
   ],
   "source": [
    "poi3_requests['z_score'] = poi3_requests.apply (lambda row: z_score_calculator(row,449.550639,224.269622), axis=1)\n"
   ]
  },
  {
   "cell_type": "code",
   "execution_count": 432,
   "metadata": {},
   "outputs": [
    {
     "name": "stdout",
     "output_type": "stream",
     "text": [
      "8342\n",
      "8182\n",
      "number of outliers in POI3 requests: 160\n"
     ]
    }
   ],
   "source": [
    "# filter outliers (z_score > 3 or z_score < -3)\n",
    "poi3_requests_no_outliers = poi3_requests.loc[abs(poi3_requests['z_score']) < 3]\n",
    "print(len(poi3_requests.index))\n",
    "print(len(poi3_requests_no_outliers.index))\n",
    "print('number of outliers in POI3 requests:', len(poi3_requests.index) - len(poi3_requests_no_outliers.index))\n"
   ]
  },
  {
   "cell_type": "code",
   "execution_count": 433,
   "metadata": {},
   "outputs": [
    {
     "data": {
      "text/html": [
       "<div>\n",
       "<style scoped>\n",
       "    .dataframe tbody tr th:only-of-type {\n",
       "        vertical-align: middle;\n",
       "    }\n",
       "\n",
       "    .dataframe tbody tr th {\n",
       "        vertical-align: top;\n",
       "    }\n",
       "\n",
       "    .dataframe thead th {\n",
       "        text-align: right;\n",
       "    }\n",
       "</style>\n",
       "<table border=\"1\" class=\"dataframe\">\n",
       "  <thead>\n",
       "    <tr style=\"text-align: right;\">\n",
       "      <th></th>\n",
       "      <th>_ID</th>\n",
       "      <th>Latitude</th>\n",
       "      <th>Longitude</th>\n",
       "      <th>Min_distance</th>\n",
       "      <th>z_score</th>\n",
       "    </tr>\n",
       "  </thead>\n",
       "  <tbody>\n",
       "    <tr>\n",
       "      <th>count</th>\n",
       "      <td>8.182000e+03</td>\n",
       "      <td>8182.000000</td>\n",
       "      <td>8182.000000</td>\n",
       "      <td>8182.000000</td>\n",
       "      <td>8182.000000</td>\n",
       "    </tr>\n",
       "    <tr>\n",
       "      <th>mean</th>\n",
       "      <td>5.061312e+06</td>\n",
       "      <td>44.149970</td>\n",
       "      <td>-78.498041</td>\n",
       "      <td>433.960707</td>\n",
       "      <td>-0.069514</td>\n",
       "    </tr>\n",
       "    <tr>\n",
       "      <th>std</th>\n",
       "      <td>3.199950e+05</td>\n",
       "      <td>1.010038</td>\n",
       "      <td>2.493707</td>\n",
       "      <td>196.316342</td>\n",
       "      <td>0.875359</td>\n",
       "    </tr>\n",
       "    <tr>\n",
       "      <th>min</th>\n",
       "      <td>4.516516e+06</td>\n",
       "      <td>42.129000</td>\n",
       "      <td>-87.100100</td>\n",
       "      <td>0.809359</td>\n",
       "      <td>-2.000901</td>\n",
       "    </tr>\n",
       "    <tr>\n",
       "      <th>25%</th>\n",
       "      <td>4.786360e+06</td>\n",
       "      <td>43.601188</td>\n",
       "      <td>-79.719300</td>\n",
       "      <td>454.255500</td>\n",
       "      <td>0.020979</td>\n",
       "    </tr>\n",
       "    <tr>\n",
       "      <th>50%</th>\n",
       "      <td>5.069957e+06</td>\n",
       "      <td>43.730200</td>\n",
       "      <td>-79.415600</td>\n",
       "      <td>504.464463</td>\n",
       "      <td>0.244856</td>\n",
       "    </tr>\n",
       "    <tr>\n",
       "      <th>75%</th>\n",
       "      <td>5.342928e+06</td>\n",
       "      <td>44.524925</td>\n",
       "      <td>-78.863200</td>\n",
       "      <td>529.753988</td>\n",
       "      <td>0.357620</td>\n",
       "    </tr>\n",
       "    <tr>\n",
       "      <th>max</th>\n",
       "      <td>5.615006e+06</td>\n",
       "      <td>49.916800</td>\n",
       "      <td>-68.517900</td>\n",
       "      <td>1105.614732</td>\n",
       "      <td>2.925336</td>\n",
       "    </tr>\n",
       "  </tbody>\n",
       "</table>\n",
       "</div>"
      ],
      "text/plain": [
       "                _ID     Latitude    Longitude  Min_distance      z_score\n",
       "count  8.182000e+03  8182.000000  8182.000000   8182.000000  8182.000000\n",
       "mean   5.061312e+06    44.149970   -78.498041    433.960707    -0.069514\n",
       "std    3.199950e+05     1.010038     2.493707    196.316342     0.875359\n",
       "min    4.516516e+06    42.129000   -87.100100      0.809359    -2.000901\n",
       "25%    4.786360e+06    43.601188   -79.719300    454.255500     0.020979\n",
       "50%    5.069957e+06    43.730200   -79.415600    504.464463     0.244856\n",
       "75%    5.342928e+06    44.524925   -78.863200    529.753988     0.357620\n",
       "max    5.615006e+06    49.916800   -68.517900   1105.614732     2.925336"
      ]
     },
     "execution_count": 433,
     "metadata": {},
     "output_type": "execute_result"
    }
   ],
   "source": [
    "poi3_requests_no_outliers.describe()"
   ]
  },
  {
   "cell_type": "code",
   "execution_count": 435,
   "metadata": {},
   "outputs": [
    {
     "name": "stdout",
     "output_type": "stream",
     "text": [
      "POI3 density (requests/km^2): 2152.4061890543594\n"
     ]
    }
   ],
   "source": [
    "# POI3, corrected_radius: 1105.614732 m = 1.1 km \n",
    "# POI3 corrected_density: counts/area\n",
    "poi3_corrected_density = 8182 /(np.pi*1.1*1.1)\n",
    "print('POI3 density (requests/km^2):', poi3_corrected_density)"
   ]
  },
  {
   "cell_type": "code",
   "execution_count": 436,
   "metadata": {},
   "outputs": [
    {
     "data": {
      "image/png": "[encoded data removed]",
      "text/plain": [
       "<Figure size 432x288 with 1 Axes>"
      ]
     },
     "metadata": {
      "needs_background": "light"
     },
     "output_type": "display_data"
    }
   ],
   "source": [
    "#POI3_corrected \n",
    "\n",
    "plt.scatter(poi3_requests_no_outliers['Latitude'].values, poi3_requests_no_outliers['Longitude'].values)\n",
    "plt.scatter(45.521629,-73.566024, color = 'orange')\n",
    "plt.title('Distribution of requests closests to POI3 after removing outliers')\n",
    "plt.xlabel('Latitude')\n",
    "plt.ylabel('Longitude')\n",
    "plt.show()"
   ]
  },
  {
   "cell_type": "code",
   "execution_count": 437,
   "metadata": {},
   "outputs": [
    {
     "name": "stderr",
     "output_type": "stream",
     "text": [
      "C:\\Users\\smart\\Anaconda3\\lib\\site-packages\\ipykernel_launcher.py:1: SettingWithCopyWarning: \n",
      "A value is trying to be set on a copy of a slice from a DataFrame.\n",
      "Try using .loc[row_indexer,col_indexer] = value instead\n",
      "\n",
      "See the caveats in the documentation: http://pandas.pydata.org/pandas-docs/stable/indexing.html#indexing-view-versus-copy\n",
      "  \"\"\"Entry point for launching an IPython kernel.\n"
     ]
    }
   ],
   "source": [
    "poi4_requests['z_score'] = poi4_requests.apply (lambda row: z_score_calculator(row,524.168847,1523.900297), axis=1)"
   ]
  },
  {
   "cell_type": "code",
   "execution_count": 438,
   "metadata": {},
   "outputs": [
    {
     "name": "stdout",
     "output_type": "stream",
     "text": [
      "412\n",
      "398\n",
      "number of outliers in POI4 requests: 14\n"
     ]
    }
   ],
   "source": [
    "# filter outliers (z_score > 3 or z_score < -3)\n",
    "poi4_requests_no_outliers = poi4_requests.loc[abs(poi4_requests['z_score']) < 3]\n",
    "print(len(poi4_requests.index))\n",
    "print(len(poi4_requests_no_outliers.index))\n",
    "print('number of outliers in POI4 requests:', len(poi4_requests.index) - len(poi4_requests_no_outliers.index))\n"
   ]
  },
  {
   "cell_type": "code",
   "execution_count": 439,
   "metadata": {},
   "outputs": [
    {
     "data": {
      "text/html": [
       "<div>\n",
       "<style scoped>\n",
       "    .dataframe tbody tr th:only-of-type {\n",
       "        vertical-align: middle;\n",
       "    }\n",
       "\n",
       "    .dataframe tbody tr th {\n",
       "        vertical-align: top;\n",
       "    }\n",
       "\n",
       "    .dataframe thead th {\n",
       "        text-align: right;\n",
       "    }\n",
       "</style>\n",
       "<table border=\"1\" class=\"dataframe\">\n",
       "  <thead>\n",
       "    <tr style=\"text-align: right;\">\n",
       "      <th></th>\n",
       "      <th>_ID</th>\n",
       "      <th>Latitude</th>\n",
       "      <th>Longitude</th>\n",
       "      <th>Min_distance</th>\n",
       "      <th>z_score</th>\n",
       "    </tr>\n",
       "  </thead>\n",
       "  <tbody>\n",
       "    <tr>\n",
       "      <th>count</th>\n",
       "      <td>3.980000e+02</td>\n",
       "      <td>398.000000</td>\n",
       "      <td>398.000000</td>\n",
       "      <td>398.000000</td>\n",
       "      <td>398.000000</td>\n",
       "    </tr>\n",
       "    <tr>\n",
       "      <th>mean</th>\n",
       "      <td>5.043659e+06</td>\n",
       "      <td>45.946462</td>\n",
       "      <td>-62.818845</td>\n",
       "      <td>245.571628</td>\n",
       "      <td>-0.182819</td>\n",
       "    </tr>\n",
       "    <tr>\n",
       "      <th>std</th>\n",
       "      <td>3.207198e+05</td>\n",
       "      <td>1.075617</td>\n",
       "      <td>3.953643</td>\n",
       "      <td>231.110857</td>\n",
       "      <td>0.151657</td>\n",
       "    </tr>\n",
       "    <tr>\n",
       "      <th>min</th>\n",
       "      <td>4.530820e+06</td>\n",
       "      <td>44.335100</td>\n",
       "      <td>-68.093100</td>\n",
       "      <td>16.229069</td>\n",
       "      <td>-0.333316</td>\n",
       "    </tr>\n",
       "    <tr>\n",
       "      <th>25%</th>\n",
       "      <td>4.764735e+06</td>\n",
       "      <td>45.083400</td>\n",
       "      <td>-64.815000</td>\n",
       "      <td>74.692026</td>\n",
       "      <td>-0.294952</td>\n",
       "    </tr>\n",
       "    <tr>\n",
       "      <th>50%</th>\n",
       "      <td>5.019454e+06</td>\n",
       "      <td>46.096700</td>\n",
       "      <td>-63.917000</td>\n",
       "      <td>157.030982</td>\n",
       "      <td>-0.240920</td>\n",
       "    </tr>\n",
       "    <tr>\n",
       "      <th>75%</th>\n",
       "      <td>5.351936e+06</td>\n",
       "      <td>46.118300</td>\n",
       "      <td>-63.303325</td>\n",
       "      <td>269.296994</td>\n",
       "      <td>-0.167250</td>\n",
       "    </tr>\n",
       "    <tr>\n",
       "      <th>max</th>\n",
       "      <td>5.612336e+06</td>\n",
       "      <td>49.177100</td>\n",
       "      <td>-52.656600</td>\n",
       "      <td>855.256289</td>\n",
       "      <td>0.217263</td>\n",
       "    </tr>\n",
       "  </tbody>\n",
       "</table>\n",
       "</div>"
      ],
      "text/plain": [
       "                _ID    Latitude   Longitude  Min_distance     z_score\n",
       "count  3.980000e+02  398.000000  398.000000    398.000000  398.000000\n",
       "mean   5.043659e+06   45.946462  -62.818845    245.571628   -0.182819\n",
       "std    3.207198e+05    1.075617    3.953643    231.110857    0.151657\n",
       "min    4.530820e+06   44.335100  -68.093100     16.229069   -0.333316\n",
       "25%    4.764735e+06   45.083400  -64.815000     74.692026   -0.294952\n",
       "50%    5.019454e+06   46.096700  -63.917000    157.030982   -0.240920\n",
       "75%    5.351936e+06   46.118300  -63.303325    269.296994   -0.167250\n",
       "max    5.612336e+06   49.177100  -52.656600    855.256289    0.217263"
      ]
     },
     "execution_count": 439,
     "metadata": {},
     "output_type": "execute_result"
    }
   ],
   "source": [
    "poi4_requests_no_outliers.describe()"
   ]
  },
  {
   "cell_type": "code",
   "execution_count": 239,
   "metadata": {},
   "outputs": [
    {
     "name": "stdout",
     "output_type": "stream",
     "text": [
      "POI4 density (requests/km^2): 175.34579197390823\n"
     ]
    }
   ],
   "source": [
    "# POI4, corrected_radius: 855.256289 m = 0.85 km \n",
    "# POI4 corrected_density: counts/area\n",
    "poi4_corrected_density = 398 /(np.pi*0.85*0.85)\n",
    "print('POI4 density (requests/km^2):', poi4_corrected_density )"
   ]
  },
  {
   "cell_type": "code",
   "execution_count": 440,
   "metadata": {},
   "outputs": [
    {
     "data": {
      "image/png": "[encoded data removed]",
      "text/plain": [
       "<Figure size 432x288 with 1 Axes>"
      ]
     },
     "metadata": {
      "needs_background": "light"
     },
     "output_type": "display_data"
    }
   ],
   "source": [
    "#POI4_corrected \n",
    "\n",
    "plt.scatter(poi4_requests_no_outliers['Latitude'].values, poi4_requests_no_outliers['Longitude'].values)\n",
    "plt.scatter(45.224830,-63.232729, color = 'orange')\n",
    "plt.title('Distribution of requests closests to POI4 after removing outliers')\n",
    "plt.xlabel('Latitude')\n",
    "plt.ylabel('Longitude')\n",
    "plt.show()"
   ]
  },
  {
   "cell_type": "code",
   "execution_count": 447,
   "metadata": {},
   "outputs": [
    {
     "data": {
      "image/png": "[encoded data removed]",
      "text/plain": [
       "<Figure size 432x288 with 1 Axes>"
      ]
     },
     "metadata": {
      "needs_background": "light"
     },
     "output_type": "display_data"
    }
   ],
   "source": [
    "plt.scatter(poi2_requests_no_outliers['Latitude'].values, poi2_requests_no_outliers['Longitude'].values,\n",
    "           color = 'green')\n",
    "plt.scatter(53.546167,-113.485734, color = 'red')\n",
    "plt.scatter(poi3_requests_no_outliers['Latitude'].values, poi3_requests_no_outliers['Longitude'].values,\n",
    "           color = 'orange')\n",
    "plt.scatter(45.521629,-73.566024, color = 'red')\n",
    "plt.scatter(poi4_requests_no_outliers['Latitude'].values, poi4_requests_no_outliers['Longitude'].values,\n",
    "           color='blue')\n",
    "plt.scatter(45.224830,-63.232729, color = 'red')\n",
    "plt.xlabel('Latitude')\n",
    "plt.ylabel('Longitude')\n",
    "plt.title('Distribution of requests closests to POIs after removing outliers; POI2:green, POI3:orange, POI4:blue')\n",
    "plt.show()"
   ]
  },
  {
   "cell_type": "code",
   "execution_count": 241,
   "metadata": {},
   "outputs": [],
   "source": [
    "# Assuming desity ~ popularity \n",
    "\n",
    "poi2_popularity = 1219\n",
    "poi3_popularity = 2152\n",
    "poi4_popularity = 175\n",
    "\n",
    "popularities = [poi2_popularity, poi3_popularity, poi4_popularity]\n",
    "\n"
   ]
  },
  {
   "cell_type": "code",
   "execution_count": 243,
   "metadata": {},
   "outputs": [
    {
     "data": {
      "text/plain": [
       "0.5614567526555394"
      ]
     },
     "execution_count": 243,
     "metadata": {},
     "output_type": "execute_result"
    }
   ],
   "source": [
    "# Map the density values to [-10,10]\n",
    "\n",
    "np.interp(1219,[175,2152],[-10,10])"
   ]
  },
  {
   "cell_type": "code",
   "execution_count": 248,
   "metadata": {},
   "outputs": [],
   "source": [
    "poi_list = ['POI2','POI3','POI4']\n",
    "popularity_scores = [0.56,10,-10]"
   ]
  },
  {
   "cell_type": "code",
   "execution_count": 249,
   "metadata": {},
   "outputs": [
    {
     "data": {
      "image/png": "[encoded data removed]",
      "text/plain": [
       "<Figure size 432x288 with 1 Axes>"
      ]
     },
     "metadata": {
      "needs_background": "light"
     },
     "output_type": "display_data"
    }
   ],
   "source": [
    "# plot \n",
    "plt.bar(poi_list,popularity_scores)\n",
    "plt.title('Popularity of POIs mapped to [-10,10]')\n",
    "plt.xlabel('POIs')\n",
    "plt.ylabel('Popularity based on density')\n",
    "plt.show()"
   ]
  },
  {
   "cell_type": "markdown",
   "metadata": {},
   "source": [
    "# By: Alireza Rahimnejad Yazdi"
   ]
  }
 ],
 "metadata": {
  "kernelspec": {
   "display_name": "Python 3",
   "language": "python",
   "name": "python3"
  },
  "language_info": {
   "codemirror_mode": {
    "name": "ipython",
    "version": 3
   },
   "file_extension": ".py",
   "mimetype": "text/x-python",
   "name": "python",
   "nbconvert_exporter": "python",
   "pygments_lexer": "ipython3",
   "version": "3.7.3"
  }
 },
 "nbformat": 4,
 "nbformat_minor": 2
}
